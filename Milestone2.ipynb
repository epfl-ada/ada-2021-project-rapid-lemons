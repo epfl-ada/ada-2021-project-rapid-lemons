{
  "nbformat": 4,
  "nbformat_minor": 0,
  "metadata": {
    "colab": {
      "name": "Milestone2.ipynb",
      "provenance": [],
      "collapsed_sections": []
    },
    "kernelspec": {
      "display_name": "Python 3",
      "name": "python3"
    },
    "language_info": {
      "name": "python"
    }
  },
  "cells": [
    {
      "cell_type": "markdown",
      "metadata": {
        "id": "c8mX3JjnKrQp"
      },
      "source": [
        "Disclaimer: Due to time constraints, we did most of the data analysis on the 2020 dataset, assuming that the various statistics would be consistent across the other years. But by the end of the notebook all the years of the dataset will have been cleaned and filtered as described below."
      ]
    },
    {
      "cell_type": "markdown",
      "metadata": {
        "id": "sq6Ax9EdLhZV"
      },
      "source": [
        "We start things off by mounting the drive on the Google Colab, doing necessary imports and defining some useful constants:"
      ]
    },
    {
      "cell_type": "code",
      "metadata": {
        "id": "8BiBu91cYFV8",
        "colab": {
          "base_uri": "https://localhost:8080/"
        },
        "outputId": "bc37d295-ca26-47ab-eb24-c4a4e60a79ac"
      },
      "source": [
        "from google.colab import drive\n",
        "drive.mount('/content/drive')"
      ],
      "execution_count": null,
      "outputs": [
        {
          "output_type": "stream",
          "name": "stdout",
          "text": [
            "Drive already mounted at /content/drive; to attempt to forcibly remount, call drive.mount(\"/content/drive\", force_remount=True).\n"
          ]
        }
      ]
    },
    {
      "cell_type": "code",
      "metadata": {
        "colab": {
          "base_uri": "https://localhost:8080/"
        },
        "id": "fHKRDj4oQvhv",
        "outputId": "58cfb6b5-af28-42c9-a9fb-c52005f052ca"
      },
      "source": [
        "#There is a bug between the most recent version of pandas and Google Colab, so we use an older version\n",
        "!pip install pandas==1.0.5"
      ],
      "execution_count": null,
      "outputs": [
        {
          "output_type": "stream",
          "name": "stdout",
          "text": [
            "Requirement already satisfied: pandas==1.0.5 in /usr/local/lib/python3.7/dist-packages (1.0.5)\n",
            "Requirement already satisfied: python-dateutil>=2.6.1 in /usr/local/lib/python3.7/dist-packages (from pandas==1.0.5) (2.8.2)\n",
            "Requirement already satisfied: numpy>=1.13.3 in /usr/local/lib/python3.7/dist-packages (from pandas==1.0.5) (1.19.5)\n",
            "Requirement already satisfied: pytz>=2017.2 in /usr/local/lib/python3.7/dist-packages (from pandas==1.0.5) (2018.9)\n",
            "Requirement already satisfied: six>=1.5 in /usr/local/lib/python3.7/dist-packages (from python-dateutil>=2.6.1->pandas==1.0.5) (1.15.0)\n"
          ]
        }
      ]
    },
    {
      "cell_type": "code",
      "metadata": {
        "colab": {
          "base_uri": "https://localhost:8080/",
          "height": 35
        },
        "id": "tGsmsCVMN3Yo",
        "outputId": "14925e17-faa6-4814-d369-abee87014e7b"
      },
      "source": [
        "import pandas as pd\n",
        "import numpy as np\n",
        "import seaborn as sns\n",
        "import matplotlib.pyplot as plt\n",
        "import os\n",
        "import ast\n",
        "import datetime\n",
        "import hashlib\n",
        "from IPython.display import clear_output\n",
        "!pip install tldextract\n",
        "import tldextract\n",
        "from collections import defaultdict\n",
        "\n",
        "\n",
        "\n",
        "pd.__version__"
      ],
      "execution_count": null,
      "outputs": [
        {
          "output_type": "execute_result",
          "data": {
            "application/vnd.google.colaboratory.intrinsic+json": {
              "type": "string"
            },
            "text/plain": [
              "'1.0.5'"
            ]
          },
          "metadata": {},
          "execution_count": 42
        }
      ]
    },
    {
      "cell_type": "code",
      "metadata": {
        "id": "UqNj7uftMUjK"
      },
      "source": [
        "path_to_folder = '/content/drive/MyDrive/Quotebank'\n",
        "path_to_modified_folder = '/content/drive/MyDrive/Quotebank-modified'\n",
        "filenames = ['quotes-2015.json.bz2','quotes-2016.json.bz2','quotes-2017.json.bz2','quotes-2018.json.bz2','quotes-2019.json.bz2','quotes-2020.json.bz2' ]\n",
        "chunksize = 300000\n",
        "\n",
        "\n"
      ],
      "execution_count": null,
      "outputs": []
    },
    {
      "cell_type": "markdown",
      "metadata": {
        "id": "1c28E-tNMCB-"
      },
      "source": [
        "Then, we define here functions that we will use for filtering the dataset in various ways, that we will go into next."
      ]
    },
    {
      "cell_type": "code",
      "metadata": {
        "id": "RrP-i366w0L0"
      },
      "source": [
        "#Filters the chunk so that only entries with exactly one Qid are returned\n",
        "def filterSingleQid(chunk):\n",
        "  return chunk[chunk['qids'].str.len().eq(1)]\n",
        "\n",
        "#Filters the chunk so that only entries with confidence percentage of main speaker above 40%; Should be used on JSON-loaded files, as they automatically parse lists\n",
        "def filterPercentageJSON(chunk):\n",
        "  return chunk[chunk[\"probas\"].apply(lambda x:float(x[0][1]) >= 0.4)]\n",
        "\n",
        "#Filters the chunk so that only entries with confidence percentage of main speaker above 40%; Should be used on CSV-loaded files, as lists are loaded as string and need to be parsed\n",
        "def filterPercentageCSV(chunk):\n",
        "  return chunk[chunk[\"probas\"].apply(lambda x:float(ast.literal_eval(x)[0][1]) >= 0.4)]\n",
        "\n",
        "#Filters the chunk so that only entries with quotation between 10 and 500 characters are kept\n",
        "def filterQuoteLength(chunk):\n",
        "  return chunk[(chunk['quotation'].apply(lambda x:len(x)) > 10) & (chunk['quotation'].apply(lambda x:len(x)) < 500)]\n",
        "\n",
        "#Filters the chunk so that only unique quoteID are kept; a list of precedent Ids can be provided to check uniqueness across chunks\n",
        "def filterUniqueIds(chunk, precedentIds):\n",
        "  chunk = chunk.drop_duplicates(subset=[\"quoteID\"], keep=\"first\")\n",
        "  return chunk[chunk['hashIds'].apply(lambda x: x not in precedentIds)]\n",
        "\n",
        "#Filters the chunk so that only entries with dates corresponding with dataset_date are kept\n",
        "def filterIllegalDates(chunk,dataset_date):\n",
        "  return chunk[chunk['date'].apply(lambda x: x.year == dataset_date)]\n"
      ],
      "execution_count": null,
      "outputs": []
    },
    {
      "cell_type": "markdown",
      "metadata": {
        "id": "g8664vz5Mjec"
      },
      "source": [
        "Here, we start working on the 2020 year as mentionned in the disclaimer.\n",
        "The first thing we do is to filter out any quotes having more or less than one Qid associated with it, in order to associate it with the correct person later down the line. While it likely isn't the best method (amongst other things, it will filter out people that have multiple Qids associated with them, e.g. \"Donald Trump\" and \"President Trump\"), we couldn't come up with a reliable alternative that would be runnable on the entire dataset before the deadline.\n",
        "\n",
        "Also of note is that we store the result in csv format: that is because most more optimized format don't support appending to one file as we process chunks, and we ran into trouble with the one that do (HDF5), so we decided to stick with a simpler format."
      ]
    },
    {
      "cell_type": "code",
      "metadata": {
        "colab": {
          "base_uri": "https://localhost:8080/"
        },
        "id": "2Hz4Lo6uWNGg",
        "outputId": "17384765-b86a-4c66-bbd6-32c6fff144aa"
      },
      "source": [
        "\n",
        "usableCount = 0\n",
        "totalCount = 0\n",
        "filename = filenames[-1]\n",
        "\n",
        "df = pd.read_json(os.path.join(path_to_folder, filename), lines=True, compression='bz2', chunksize=chunksize)\n",
        "\n",
        "modified_filename = \"single-qids-\" + filename\n",
        "chunkCount = 1\n",
        "header = True\n",
        "#Removes file if it exists, as the 'append' mode will otherwise keep growing it\n",
        "try:\n",
        "    os.remove(os.path.join(path_to_modified_folder, modified_filename))\n",
        "except OSError:\n",
        "    pass\n",
        "#Iterates through the chunks\n",
        "for chunk in df:\n",
        "  #This prints the chunk number, to know where the program currently is in the output\n",
        "  clear_output(wait=True)\n",
        "  print(chunkCount)\n",
        "\n",
        "  totalCount  = totalCount + chunk.shape[0]\n",
        "  \n",
        "  chunk = filterSingleQid(chunk)\n",
        "\n",
        "  usableCount = usableCount + chunk.shape[0]\n",
        "\n",
        "  chunk.to_csv(os.path.join(path_to_modified_folder, modified_filename),\n",
        "        header=header, mode='a', index = False)\n",
        "  \n",
        "  header = False\n",
        "  chunkCount+=1\n",
        "\n",
        "print(\"Total count: \" + str(totalCount))\n",
        "print(\"usable: \" + str(usableCount))"
      ],
      "execution_count": null,
      "outputs": [
        {
          "output_type": "stream",
          "name": "stdout",
          "text": [
            "18\n",
            "Total count: 5244449\n",
            "usable: 2511905\n"
          ]
        }
      ]
    },
    {
      "cell_type": "markdown",
      "metadata": {
        "id": "PSCuzUFEN8rT"
      },
      "source": [
        "As we can see, we lose roughly half of the dataset with this method; considering the size of it, we think it will still be more than enough to produce interesting results."
      ]
    },
    {
      "cell_type": "code",
      "metadata": {
        "colab": {
          "base_uri": "https://localhost:8080/",
          "height": 289
        },
        "id": "0aET_UtTiS0e",
        "outputId": "8f52fe3b-8e6c-4037-e519-5707263a1909"
      },
      "source": [
        "#Sanity check that the CSV files are correct\n",
        "df = pd.read_csv(os.path.join(path_to_modified_folder, \"single-qids-quotes-2020.json.bz2\"), compression='bz2', chunksize=chunksize)\n",
        "chunk = next(df)\n",
        "chunk.head()"
      ],
      "execution_count": null,
      "outputs": [
        {
          "output_type": "execute_result",
          "data": {
            "text/html": [
              "<div>\n",
              "<style scoped>\n",
              "    .dataframe tbody tr th:only-of-type {\n",
              "        vertical-align: middle;\n",
              "    }\n",
              "\n",
              "    .dataframe tbody tr th {\n",
              "        vertical-align: top;\n",
              "    }\n",
              "\n",
              "    .dataframe thead th {\n",
              "        text-align: right;\n",
              "    }\n",
              "</style>\n",
              "<table border=\"1\" class=\"dataframe\">\n",
              "  <thead>\n",
              "    <tr style=\"text-align: right;\">\n",
              "      <th></th>\n",
              "      <th>quoteID</th>\n",
              "      <th>quotation</th>\n",
              "      <th>speaker</th>\n",
              "      <th>qids</th>\n",
              "      <th>date</th>\n",
              "      <th>numOccurrences</th>\n",
              "      <th>probas</th>\n",
              "      <th>urls</th>\n",
              "      <th>phase</th>\n",
              "    </tr>\n",
              "  </thead>\n",
              "  <tbody>\n",
              "    <tr>\n",
              "      <th>0</th>\n",
              "      <td>2020-01-16-000088</td>\n",
              "      <td>[ Department of Homeland Security ] was livid ...</td>\n",
              "      <td>Sue Myrick</td>\n",
              "      <td>['Q367796']</td>\n",
              "      <td>2020-01-16 12:00:13</td>\n",
              "      <td>1</td>\n",
              "      <td>[['Sue Myrick', '0.8867'], ['None', '0.0992'],...</td>\n",
              "      <td>['http://thehill.com/opinion/international/478...</td>\n",
              "      <td>E</td>\n",
              "    </tr>\n",
              "    <tr>\n",
              "      <th>1</th>\n",
              "      <td>2020-01-24-000168</td>\n",
              "      <td>[ I met them ] when they just turned 4 and 7. ...</td>\n",
              "      <td>Meghan King Edmonds</td>\n",
              "      <td>['Q20684375']</td>\n",
              "      <td>2020-01-24 20:37:09</td>\n",
              "      <td>4</td>\n",
              "      <td>[['Meghan King Edmonds', '0.5446'], ['None', '...</td>\n",
              "      <td>['https://people.com/parents/meghan-king-edmon...</td>\n",
              "      <td>E</td>\n",
              "    </tr>\n",
              "    <tr>\n",
              "      <th>2</th>\n",
              "      <td>2020-01-17-000357</td>\n",
              "      <td>[ The delay ] will have an impact [ on Slough ...</td>\n",
              "      <td>Dexter Smith</td>\n",
              "      <td>['Q5268447']</td>\n",
              "      <td>2020-01-17 13:03:00</td>\n",
              "      <td>1</td>\n",
              "      <td>[['Dexter Smith', '0.924'], ['None', '0.076']]</td>\n",
              "      <td>['http://www.sloughexpress.co.uk/gallery/sloug...</td>\n",
              "      <td>E</td>\n",
              "    </tr>\n",
              "    <tr>\n",
              "      <th>3</th>\n",
              "      <td>2020-04-02-000239</td>\n",
              "      <td>[ The scheme ] treats addiction as an illness ...</td>\n",
              "      <td>Barry Coppinger</td>\n",
              "      <td>['Q4864119']</td>\n",
              "      <td>2020-04-02 14:18:20</td>\n",
              "      <td>1</td>\n",
              "      <td>[['Barry Coppinger', '0.9017'], ['None', '0.09...</td>\n",
              "      <td>['http://www.theweek.co.uk/106479/why-police-a...</td>\n",
              "      <td>E</td>\n",
              "    </tr>\n",
              "    <tr>\n",
              "      <th>4</th>\n",
              "      <td>2020-03-19-000276</td>\n",
              "      <td>[ These ] actions will allow households who ha...</td>\n",
              "      <td>Ben Carson</td>\n",
              "      <td>['Q816459']</td>\n",
              "      <td>2020-03-19 19:14:00</td>\n",
              "      <td>1</td>\n",
              "      <td>[['Ben Carson', '0.9227'], ['None', '0.0773']]</td>\n",
              "      <td>['https://mortgageorb.com/hud-fha-suspend-fore...</td>\n",
              "      <td>E</td>\n",
              "    </tr>\n",
              "  </tbody>\n",
              "</table>\n",
              "</div>"
            ],
            "text/plain": [
              "             quoteID  ... phase\n",
              "0  2020-01-16-000088  ...     E\n",
              "1  2020-01-24-000168  ...     E\n",
              "2  2020-01-17-000357  ...     E\n",
              "3  2020-04-02-000239  ...     E\n",
              "4  2020-03-19-000276  ...     E\n",
              "\n",
              "[5 rows x 9 columns]"
            ]
          },
          "metadata": {},
          "execution_count": 6
        }
      ]
    },
    {
      "cell_type": "markdown",
      "metadata": {
        "id": "fLYjB7lROgh8"
      },
      "source": [
        "Next, we want to remove outliers and clean two columns that are of particular interest to us, namely \"quotation\" and \"probas\". \n",
        "To this end, we compute plots on the quote length and on the confidence of the main speaker; it will help us clean the malformed quotes and entries where the main speaker is unlikely to have been correctly identified."
      ]
    },
    {
      "cell_type": "code",
      "metadata": {
        "colab": {
          "base_uri": "https://localhost:8080/"
        },
        "id": "uV_qWclgJRJ0",
        "outputId": "62b95b18-af0d-40aa-cd17-801cb31d89e8"
      },
      "source": [
        "df = pd.read_csv(os.path.join(path_to_modified_folder, \"single-qids-quotes-2020.json.bz2\"), compression='bz2', chunksize=chunksize)\n",
        "\n",
        "percentages = []\n",
        "quote_lengths = []\n",
        "chunkCount = 1\n",
        "#Iterates through the chunks, adding the percentages in the list as it goes on\n",
        "for chunk in df:\n",
        "  clear_output(wait=True)\n",
        "  print(chunkCount)\n",
        "\n",
        "  chunk['quotation_length'] = chunk['quotation'].apply(lambda x:len(x))\n",
        "  chunk['probas'] = chunk[\"probas\"].apply(lambda x: float(ast.literal_eval(x)[0][1]))\n",
        "  quote_lengths.extend(chunk['quotation_length'].tolist())\n",
        "  percentages.extend(chunk['probas'].tolist())\n",
        "  \n",
        "  chunkCount+=1"
      ],
      "execution_count": null,
      "outputs": [
        {
          "output_type": "stream",
          "name": "stdout",
          "text": [
            "26\n"
          ]
        }
      ]
    },
    {
      "cell_type": "code",
      "metadata": {
        "colab": {
          "base_uri": "https://localhost:8080/",
          "height": 281
        },
        "id": "PVkXkqVpr3Ue",
        "outputId": "b90ecd6e-e6ab-4637-91f2-f9d7b05ba615"
      },
      "source": [
        "fig, (ax1, ax2, ax3) = plt.subplots(1, 3)\n",
        "ax1.set_title('Speaker confidence in %')\n",
        "ax1.boxplot(percentages)\n",
        "ax2.set_title('Quote length')\n",
        "ax2.boxplot(quote_lengths)\n",
        "ax3.set_title('Quote length log scale')\n",
        "ax3.boxplot(quote_lengths)\n",
        "ax3.set_yscale('log')\n"
      ],
      "execution_count": null,
      "outputs": [
        {
          "output_type": "display_data",
          "data": {
            "image/png": "[encoded data removed]",
            "text/plain": [
              "<Figure size 432x288 with 3 Axes>"
            ]
          },
          "metadata": {
            "needs_background": "light"
          }
        }
      ]
    },
    {
      "cell_type": "markdown",
      "metadata": {
        "id": "M1H2NJqtR3RV"
      },
      "source": [
        "We can see on these box plots several things: \n",
        "\n",
        "-Speaker confidence: almost all the data is between 40% and 100% confidence, with a high median of 80%, which is higher than we initially expected. Now, we think a vast majority of the time, when the Quotebank model was undecided on multiple speakers, it tends to assign \"None\", just like when it can't find the main speaker at all. And since no Qid is associated with \"None\", these quotes have been filtered out already in the previous steps. Still, there are a few outliers with very low confidence, and so we decided to remove any quote with less than 40% confidence.\n",
        "\n",
        "-Quote length: As we can see, most of the quotes are below 500 characters long, with outliers going as far as 3000 characters. After a quick inspection, we determined that these outliers are indeed malformed quotes that \"absorbed\" part of the article with them, or stylistic choices wrongfully interpreted as a long quote (e.g. when the author of an article speak in the first person). Thus, we decided to remove any quotes with more than 500 characters. But on the other side of the spectrum, we can see we also have a non-negligible amount of very short quotes. We were worried that they were also malformed quotes, but upon closer inspection, they seem for the most part plausible, with the quote referencing a very specific part of a larger sentence. For instance, if Bob said \"Donald is an old, fat, white man unfit for his job\", the article may read \"On Tuesday, Bob said harsh things about Donald, calling him an 'old, fat white man'.\", so we end up with a very short quote from A. Still, we think it's hard to have a meaningful quote under 10 characters long, so we also exclude those.\n",
        "\n"
      ]
    },
    {
      "cell_type": "code",
      "metadata": {
        "colab": {
          "base_uri": "https://localhost:8080/"
        },
        "id": "qhGs9X4U4yev",
        "outputId": "f2ef4794-ca3b-4113-ee9f-5542e743d04a"
      },
      "source": [
        "usableCount = 0\n",
        "totalCount = 0\n",
        "\n",
        "df = pd.read_csv(os.path.join(path_to_modified_folder, \"single-qids-quotes-2020.json.bz2\"), compression='bz2', chunksize=chunksize)\n",
        "\n",
        "modified_filename = \"filtered-percentage-and-quote-length-\" + \"single-qids-quotes-2020.json.bz2\"\n",
        "chunkCount = 1\n",
        "header = True\n",
        "\n",
        "try:\n",
        "    os.remove(os.path.join(path_to_modified_folder, modified_filename))\n",
        "except OSError:\n",
        "    pass\n",
        "\n",
        "for chunk in df:\n",
        "  clear_output(wait=True)\n",
        "  print(chunkCount)\n",
        "\n",
        "  totalCount  = totalCount + chunk.shape[0]\n",
        "\n",
        "  chunk = filterPercentageCSV(chunk)\n",
        "  chunk = filterQuoteLength(chunk)\n",
        "\n",
        "  usableCount = usableCount + chunk.shape[0]\n",
        "\n",
        "  chunk.to_csv(os.path.join(path_to_modified_folder, modified_filename),\n",
        "        header=header, mode='a', index = False)\n",
        "  \n",
        "  header = False\n",
        "  chunkCount+=1\n",
        "  \n",
        "print(\"Total count: \" + str(totalCount))\n",
        "print(\"usable: \" + str(usableCount))"
      ],
      "execution_count": null,
      "outputs": [
        {
          "output_type": "stream",
          "name": "stdout",
          "text": [
            "9\n",
            "Total count: 2511905\n",
            "usable: 2457025\n"
          ]
        }
      ]
    },
    {
      "cell_type": "markdown",
      "metadata": {
        "id": "vwgYozxwXxaZ"
      },
      "source": [
        "Next, we devise two sanity checks on our resulting dataset: The first one to make sure quotes effectively have a unique primary key in \"quoteID\", and the other to verify that the date of the quote is indeed consistent with the dataset it comes from."
      ]
    },
    {
      "cell_type": "code",
      "metadata": {
        "colab": {
          "base_uri": "https://localhost:8080/"
        },
        "id": "9HrbI2yGTnqE",
        "outputId": "61a35023-b834-4a49-ad9b-d61f3255ac7d"
      },
      "source": [
        "usableCount = 0\n",
        "badIdCount = 0\n",
        "totalCount = 0\n",
        "#To check for Id uniqueness, we create a set of id hashes that we will keep growing as we move along chunks; that way we can quickly check if a new hash is in the set or not\n",
        "precedentIds = set()\n",
        "\n",
        "df = pd.read_csv(os.path.join(path_to_modified_folder, \"filtered-percentage-and-quote-length-single-qids-quotes-2020.json.bz2\"),parse_dates=[\"date\"], compression='bz2', chunksize=chunksize)\n",
        "\n",
        "modified_filename = \"sanity-checked-filtered-percentage-and-quote-length-single-qids-quotes-2020.json.bz2\"\n",
        "chunkCount = 1\n",
        "header = True\n",
        "\n",
        "try:\n",
        "    os.remove(os.path.join(path_to_modified_folder, modified_filename))\n",
        "except OSError:\n",
        "    pass\n",
        "\n",
        "for chunk in df:\n",
        "  clear_output(wait=True)\n",
        "  print(chunkCount)\n",
        "\n",
        "  totalCount  = totalCount + chunk.shape[0]\n",
        "  #Here is where we check for id uniqueness, by creating a column of hash of the quoteID, checking uniqueness in the chunk and list, then adding it to said list\n",
        "  badIdCount += chunk.shape[0]\n",
        "  chunk[\"hashIds\"] = chunk[\"quoteID\"].apply(lambda x:hashlib.md5(x.encode()).digest())\n",
        "  chunk = filterUniqueIds(chunk,precedentIds)\n",
        "  precedentIds.update(chunk[\"hashIds\"].tolist())\n",
        "  chunk.drop(columns = [\"hashIds\"], inplace=True)\n",
        "  badIdCount -= chunk.shape[0]\n",
        "\n",
        "  chunk = filterIllegalDates(chunk,2020)\n",
        "\n",
        "  usableCount = usableCount + chunk.shape[0]\n",
        "\n",
        "  chunk.to_csv(os.path.join(path_to_modified_folder, modified_filename),\n",
        "        header=header, mode='a', index = False)\n",
        "  \n",
        "  header = False\n",
        "  chunkCount+=1\n",
        "  \n",
        "print(\"Total count: \" + str(totalCount))\n",
        "print(\"Bad ids:\" + str(badIdCount))\n",
        "print(\"usable: \" + str(usableCount))"
      ],
      "execution_count": null,
      "outputs": [
        {
          "output_type": "stream",
          "name": "stdout",
          "text": [
            "9\n",
            "Total count: 2457025\n",
            "Bad ids:0\n",
            "usable: 2457025\n"
          ]
        }
      ]
    },
    {
      "cell_type": "markdown",
      "metadata": {
        "id": "Xy2YBVz9YZqH"
      },
      "source": [
        "Finally, we apply the filtering and sanity checks devised on the 2020 dataset on all the other years:"
      ]
    },
    {
      "cell_type": "code",
      "metadata": {
        "colab": {
          "base_uri": "https://localhost:8080/"
        },
        "id": "EBjlc18PV4Lr",
        "outputId": "333af0bb-c2fc-4a86-9c9d-0d31c79bd779"
      },
      "source": [
        "year = 2015\n",
        "usableCount = 0\n",
        "totalCount = 0\n",
        "badIdCount = 0\n",
        "badYearCount = 0\n",
        "#Iterates through the files from 2015 to 2019, as we already did 2020 above\n",
        "for filename in filenames[:-1]:\n",
        "  \n",
        "  df = pd.read_json(os.path.join(path_to_folder, filename), lines=True, compression='bz2', chunksize=chunksize)\n",
        "\n",
        "  modified_filename = \"sanity-checked-filtered-percentage-and-quote-length-single-qids-\" + filename\n",
        "  precedentIds = set()\n",
        "  chunkCount = 1\n",
        "  header = True\n",
        "\n",
        "  try:\n",
        "      os.remove(os.path.join(path_to_modified_folder, modified_filename))\n",
        "  except OSError:\n",
        "      pass\n",
        "  \n",
        "  for chunk in df:\n",
        "    clear_output(wait=True)\n",
        "    print(filename + \" \" + str(chunkCount)) \n",
        "\n",
        "    totalCount  = totalCount + chunk.shape[0]\n",
        "\n",
        "    chunk = filterSingleQid(chunk)\n",
        "    chunk = filterPercentageJSON(chunk)\n",
        "    chunk = filterQuoteLength(chunk)\n",
        "\n",
        "    badIdCount += chunk.shape[0]\n",
        "    chunk[\"hashIds\"] = chunk[\"quoteID\"].apply(lambda x:hashlib.md5(x.encode()).digest())\n",
        "    chunk = filterUniqueIds(chunk,precedentIds)\n",
        "    precedentIds.update(chunk[\"hashIds\"].tolist())\n",
        "    chunk.drop(columns = [\"hashIds\"], inplace=True)\n",
        "    badIdCount -= chunk.shape[0]\n",
        "\n",
        "    badYearCount += chunk.shape[0]\n",
        "    chunk = filterIllegalDates(chunk,year)\n",
        "    badYearCount -= chunk.shape[0]\n",
        "\n",
        "    usableCount = usableCount + chunk.shape[0]\n",
        "\n",
        "    chunk.to_csv(os.path.join(path_to_modified_folder, modified_filename),\n",
        "          header=header, mode='a', index = False)\n",
        "    \n",
        "    header = False\n",
        "    chunkCount+=1\n",
        "\n",
        "  year+=1;\n",
        "\n",
        "print(\"Total count: \" + str(totalCount))\n",
        "print(\"usable: \" + str(usableCount))\n",
        "print(\"Bad ids: \" + str(badIdCount))\n",
        "print(\"Bad years: \" + str(badYearCount))\n"
      ],
      "execution_count": null,
      "outputs": [
        {
          "output_type": "stream",
          "name": "stdout",
          "text": [
            "quotes-2019.json.bz2 73\n",
            "Total count: 110339808\n",
            "usable: 50083025\n",
            "Bad ids: 0\n",
            "Bad years: 0\n"
          ]
        }
      ]
    },
    {
      "cell_type": "markdown",
      "metadata": {
        "id": "KXBWr10II408"
      },
      "source": [
        "In total, the dataset contains 115'584'257 entries, and after the filtering and cleaning we have 52'540'050 entries across the entire period of the dataset. We think that should be enough datapoints to get meaningful results in the project.\n",
        "\n",
        "Now we want to make use of the additional metadata on speakers by adding their gender and occupations aside the quotes. To achieve it, we first extract these information and the corresponding qid, then merge with the quotation dataset. Here we perform the merge with the data of 2020, for the other years it goes the same way with just the corresponding year in file name."
      ]
    },
    {
      "cell_type": "code",
      "metadata": {
        "id": "sVdonM4whhWy"
      },
      "source": [
        "path_to_folder = '/content/drive/MyDrive/Quotebank-modified'\n",
        "path_to_modified_folder = '/content/drive/MyDrive/Quotebank-modified'\n",
        "\n",
        "filenames = ['sanity-checked-filtered-percentage-and-quote-length-single-qids-quotes-2020.json.bz2']\n",
        "chunksize = 100000"
      ],
      "execution_count": null,
      "outputs": []
    },
    {
      "cell_type": "code",
      "metadata": {
        "colab": {
          "base_uri": "https://localhost:8080/",
          "height": 881
        },
        "id": "RcjCNumVmsEz",
        "outputId": "94cfe278-1cd3-443c-d3c6-e32a66b8212b"
      },
      "source": [
        "path_to_attributes = '/content/drive/MyDrive/speaker_attributes.parquet'\n",
        "\n",
        "attr = pd.read_parquet(path_to_attributes)\n",
        "attr"
      ],
      "execution_count": null,
      "outputs": [
        {
          "output_type": "execute_result",
          "data": {
            "text/html": [
              "<div>\n",
              "<style scoped>\n",
              "    .dataframe tbody tr th:only-of-type {\n",
              "        vertical-align: middle;\n",
              "    }\n",
              "\n",
              "    .dataframe tbody tr th {\n",
              "        vertical-align: top;\n",
              "    }\n",
              "\n",
              "    .dataframe thead th {\n",
              "        text-align: right;\n",
              "    }\n",
              "</style>\n",
              "<table border=\"1\" class=\"dataframe\">\n",
              "  <thead>\n",
              "    <tr style=\"text-align: right;\">\n",
              "      <th></th>\n",
              "      <th>aliases</th>\n",
              "      <th>date_of_birth</th>\n",
              "      <th>nationality</th>\n",
              "      <th>gender</th>\n",
              "      <th>lastrevid</th>\n",
              "      <th>ethnic_group</th>\n",
              "      <th>US_congress_bio_ID</th>\n",
              "      <th>occupation</th>\n",
              "      <th>party</th>\n",
              "      <th>academic_degree</th>\n",
              "      <th>id</th>\n",
              "      <th>label</th>\n",
              "      <th>candidacy</th>\n",
              "      <th>type</th>\n",
              "      <th>religion</th>\n",
              "    </tr>\n",
              "  </thead>\n",
              "  <tbody>\n",
              "    <tr>\n",
              "      <th>0</th>\n",
              "      <td>[Washington, President Washington, G. Washingt...</td>\n",
              "      <td>[+1732-02-22T00:00:00Z]</td>\n",
              "      <td>[Q161885, Q30]</td>\n",
              "      <td>[Q6581097]</td>\n",
              "      <td>1395141751</td>\n",
              "      <td>None</td>\n",
              "      <td>W000178</td>\n",
              "      <td>[Q82955, Q189290, Q131512, Q1734662, Q294126, ...</td>\n",
              "      <td>[Q327591]</td>\n",
              "      <td>None</td>\n",
              "      <td>Q23</td>\n",
              "      <td>George Washington</td>\n",
              "      <td>[Q698073, Q697949]</td>\n",
              "      <td>item</td>\n",
              "      <td>[Q682443]</td>\n",
              "    </tr>\n",
              "    <tr>\n",
              "      <th>1</th>\n",
              "      <td>[Douglas Noel Adams, Douglas Noël Adams, Dougl...</td>\n",
              "      <td>[+1952-03-11T00:00:00Z]</td>\n",
              "      <td>[Q145]</td>\n",
              "      <td>[Q6581097]</td>\n",
              "      <td>1395737157</td>\n",
              "      <td>[Q7994501]</td>\n",
              "      <td>None</td>\n",
              "      <td>[Q214917, Q28389, Q6625963, Q4853732, Q1884422...</td>\n",
              "      <td>None</td>\n",
              "      <td>None</td>\n",
              "      <td>Q42</td>\n",
              "      <td>Douglas Adams</td>\n",
              "      <td>None</td>\n",
              "      <td>item</td>\n",
              "      <td>None</td>\n",
              "    </tr>\n",
              "    <tr>\n",
              "      <th>2</th>\n",
              "      <td>[Paul Marie Ghislain Otlet, Paul Marie Otlet]</td>\n",
              "      <td>[+1868-08-23T00:00:00Z]</td>\n",
              "      <td>[Q31]</td>\n",
              "      <td>[Q6581097]</td>\n",
              "      <td>1380367296</td>\n",
              "      <td>None</td>\n",
              "      <td>None</td>\n",
              "      <td>[Q36180, Q40348, Q182436, Q1265807, Q205375, Q...</td>\n",
              "      <td>None</td>\n",
              "      <td>None</td>\n",
              "      <td>Q1868</td>\n",
              "      <td>Paul Otlet</td>\n",
              "      <td>None</td>\n",
              "      <td>item</td>\n",
              "      <td>None</td>\n",
              "    </tr>\n",
              "    <tr>\n",
              "      <th>3</th>\n",
              "      <td>[George Walker Bush, Bush Jr., Dubya, GWB, Bus...</td>\n",
              "      <td>[+1946-07-06T00:00:00Z]</td>\n",
              "      <td>[Q30]</td>\n",
              "      <td>[Q6581097]</td>\n",
              "      <td>1395142029</td>\n",
              "      <td>None</td>\n",
              "      <td>None</td>\n",
              "      <td>[Q82955, Q15982858, Q18814623, Q1028181, Q1408...</td>\n",
              "      <td>[Q29468]</td>\n",
              "      <td>None</td>\n",
              "      <td>Q207</td>\n",
              "      <td>George W. Bush</td>\n",
              "      <td>[Q327959, Q464075, Q3586276, Q4450587]</td>\n",
              "      <td>item</td>\n",
              "      <td>[Q329646, Q682443, Q33203]</td>\n",
              "    </tr>\n",
              "    <tr>\n",
              "      <th>4</th>\n",
              "      <td>[Velázquez, Diego Rodríguez de Silva y Velázqu...</td>\n",
              "      <td>[+1599-06-06T00:00:00Z]</td>\n",
              "      <td>[Q29]</td>\n",
              "      <td>[Q6581097]</td>\n",
              "      <td>1391704596</td>\n",
              "      <td>None</td>\n",
              "      <td>None</td>\n",
              "      <td>[Q1028181]</td>\n",
              "      <td>None</td>\n",
              "      <td>None</td>\n",
              "      <td>Q297</td>\n",
              "      <td>Diego Velázquez</td>\n",
              "      <td>None</td>\n",
              "      <td>item</td>\n",
              "      <td>None</td>\n",
              "    </tr>\n",
              "    <tr>\n",
              "      <th>...</th>\n",
              "      <td>...</td>\n",
              "      <td>...</td>\n",
              "      <td>...</td>\n",
              "      <td>...</td>\n",
              "      <td>...</td>\n",
              "      <td>...</td>\n",
              "      <td>...</td>\n",
              "      <td>...</td>\n",
              "      <td>...</td>\n",
              "      <td>...</td>\n",
              "      <td>...</td>\n",
              "      <td>...</td>\n",
              "      <td>...</td>\n",
              "      <td>...</td>\n",
              "      <td>...</td>\n",
              "    </tr>\n",
              "    <tr>\n",
              "      <th>9055976</th>\n",
              "      <td>[Barker Howard]</td>\n",
              "      <td>None</td>\n",
              "      <td>[Q30]</td>\n",
              "      <td>[Q6581097]</td>\n",
              "      <td>1397399351</td>\n",
              "      <td>None</td>\n",
              "      <td>None</td>\n",
              "      <td>[Q82955]</td>\n",
              "      <td>None</td>\n",
              "      <td>None</td>\n",
              "      <td>Q106406560</td>\n",
              "      <td>Barker B. Howard</td>\n",
              "      <td>None</td>\n",
              "      <td>item</td>\n",
              "      <td>None</td>\n",
              "    </tr>\n",
              "    <tr>\n",
              "      <th>9055977</th>\n",
              "      <td>[Charles Macomber]</td>\n",
              "      <td>None</td>\n",
              "      <td>[Q30]</td>\n",
              "      <td>[Q6581097]</td>\n",
              "      <td>1397399471</td>\n",
              "      <td>None</td>\n",
              "      <td>None</td>\n",
              "      <td>[Q82955]</td>\n",
              "      <td>None</td>\n",
              "      <td>None</td>\n",
              "      <td>Q106406571</td>\n",
              "      <td>Charles H. Macomber</td>\n",
              "      <td>None</td>\n",
              "      <td>item</td>\n",
              "      <td>None</td>\n",
              "    </tr>\n",
              "    <tr>\n",
              "      <th>9055978</th>\n",
              "      <td>None</td>\n",
              "      <td>[+1848-04-01T00:00:00Z]</td>\n",
              "      <td>None</td>\n",
              "      <td>[Q6581072]</td>\n",
              "      <td>1397399751</td>\n",
              "      <td>None</td>\n",
              "      <td>None</td>\n",
              "      <td>None</td>\n",
              "      <td>None</td>\n",
              "      <td>None</td>\n",
              "      <td>Q106406588</td>\n",
              "      <td>Dina David</td>\n",
              "      <td>None</td>\n",
              "      <td>item</td>\n",
              "      <td>None</td>\n",
              "    </tr>\n",
              "    <tr>\n",
              "      <th>9055979</th>\n",
              "      <td>None</td>\n",
              "      <td>[+1899-03-18T00:00:00Z]</td>\n",
              "      <td>None</td>\n",
              "      <td>[Q6581072]</td>\n",
              "      <td>1397399799</td>\n",
              "      <td>None</td>\n",
              "      <td>None</td>\n",
              "      <td>None</td>\n",
              "      <td>None</td>\n",
              "      <td>None</td>\n",
              "      <td>Q106406593</td>\n",
              "      <td>Irma Dexinger</td>\n",
              "      <td>None</td>\n",
              "      <td>item</td>\n",
              "      <td>None</td>\n",
              "    </tr>\n",
              "    <tr>\n",
              "      <th>9055980</th>\n",
              "      <td>[Fred Trull]</td>\n",
              "      <td>None</td>\n",
              "      <td>[Q30]</td>\n",
              "      <td>[Q6581097]</td>\n",
              "      <td>1397400809</td>\n",
              "      <td>None</td>\n",
              "      <td>None</td>\n",
              "      <td>[Q82955]</td>\n",
              "      <td>None</td>\n",
              "      <td>None</td>\n",
              "      <td>Q106406643</td>\n",
              "      <td>Fred F. Trull</td>\n",
              "      <td>None</td>\n",
              "      <td>item</td>\n",
              "      <td>None</td>\n",
              "    </tr>\n",
              "  </tbody>\n",
              "</table>\n",
              "<p>9055981 rows × 15 columns</p>\n",
              "</div>"
            ],
            "text/plain": [
              "                                                   aliases  ...                    religion\n",
              "0        [Washington, President Washington, G. Washingt...  ...                   [Q682443]\n",
              "1        [Douglas Noel Adams, Douglas Noël Adams, Dougl...  ...                        None\n",
              "2            [Paul Marie Ghislain Otlet, Paul Marie Otlet]  ...                        None\n",
              "3        [George Walker Bush, Bush Jr., Dubya, GWB, Bus...  ...  [Q329646, Q682443, Q33203]\n",
              "4        [Velázquez, Diego Rodríguez de Silva y Velázqu...  ...                        None\n",
              "...                                                    ...  ...                         ...\n",
              "9055976                                    [Barker Howard]  ...                        None\n",
              "9055977                                 [Charles Macomber]  ...                        None\n",
              "9055978                                               None  ...                        None\n",
              "9055979                                               None  ...                        None\n",
              "9055980                                       [Fred Trull]  ...                        None\n",
              "\n",
              "[9055981 rows x 15 columns]"
            ]
          },
          "metadata": {},
          "execution_count": 5
        }
      ]
    },
    {
      "cell_type": "code",
      "metadata": {
        "colab": {
          "base_uri": "https://localhost:8080/"
        },
        "id": "rYIBbtHVpC45",
        "outputId": "600e1142-0ab7-4426-e992-b43d459813d6"
      },
      "source": [
        "#Keep only the attributes that we are interested in\n",
        "attr_short = attr[['id', 'gender', 'occupation']]\n",
        "\n",
        "#Drop rows with missing values\n",
        "attr_no_null = attr_short.dropna()\n",
        "print(attr_short.shape, attr_no_null.shape)\n",
        "\n",
        "#Change the qids format form ['Q367796'] to Q367796 in order to merge with attributes\n",
        "def filterSansCrochet(chunk):\n",
        "  def sansCrochet(ids):\n",
        "    ids = ids.replace(\"['\",\"\")\n",
        "    ids = ids.replace(\"']\",\"\")\n",
        "    return ids\n",
        "  chunk['qids'] = chunk['qids'].apply(sansCrochet)\n",
        "  return chunk\n",
        "\n"
      ],
      "execution_count": null,
      "outputs": [
        {
          "output_type": "stream",
          "name": "stdout",
          "text": [
            "(9055981, 3) (4893542, 3)\n"
          ]
        }
      ]
    },
    {
      "cell_type": "code",
      "metadata": {
        "colab": {
          "base_uri": "https://localhost:8080/"
        },
        "id": "YQTt5WyDiLgq",
        "outputId": "3e4f454a-6261-4308-a453-8100b270f2a9"
      },
      "source": [
        "usableCount = 0\n",
        "totalCount = 0\n",
        "first_chunk = None\n",
        "for filename in [filenames[-1]]:        \n",
        "  df = pd.read_csv(os.path.join(path_to_folder, filename), compression='bz2', chunksize=chunksize)\n",
        "  modified_filename = \"gender-occupation\" + filename\n",
        "  chunkCount = 1\n",
        "  header = True\n",
        "  try:\n",
        "      os.remove(os.path.join(path_to_modified_folder, modified_filename))\n",
        "  except OSError:\n",
        "      pass\n",
        "  for chunk in df:\n",
        "    clear_output(wait=True)\n",
        "    print(chunkCount)\n",
        "    totalCount  = totalCount + chunk.shape[0]\n",
        "    \n",
        "    chunk = filterSansCrochet(chunk)\n",
        "\n",
        "    chunk = pd.merge(chunk, attr_no_null, left_on=\"qids\", right_on = \"id\")\n",
        "\n",
        "    chunk.to_csv(os.path.join(path_to_modified_folder, modified_filename),\n",
        "          header=header, mode='a', index = False)\n",
        "    header = False\n",
        "    usableCount = usableCount + chunk.shape[0]\n",
        "    chunkCount+=1\n",
        "print(\"Total count: \" + str(totalCount))\n",
        "print(\"usable: \" + str(usableCount))"
      ],
      "execution_count": null,
      "outputs": [
        {
          "output_type": "stream",
          "name": "stdout",
          "text": [
            "24\n"
          ]
        }
      ]
    },
    {
      "cell_type": "markdown",
      "metadata": {
        "id": "JuVcJBkxy8YP"
      },
      "source": [
        "We verify that gender and occupation columns are succesfully added to our dataset."
      ]
    },
    {
      "cell_type": "code",
      "metadata": {
        "id": "TJEDEaxMyK3o"
      },
      "source": [
        "joined = pd.read_csv(os.path.join(path_to_modified_folder, \"gender-occupation\" + filenames[0]), compression='bz2', chunksize=chunksize)"
      ],
      "execution_count": null,
      "outputs": []
    },
    {
      "cell_type": "code",
      "metadata": {
        "colab": {
          "base_uri": "https://localhost:8080/",
          "height": 598
        },
        "id": "IB6efS_k6zfj",
        "outputId": "33a468a9-5696-4f8c-d48b-3f365ce0c303"
      },
      "source": [
        "chunk = next(joined)\n",
        "chunk.head()"
      ],
      "execution_count": null,
      "outputs": [
        {
          "output_type": "execute_result",
          "data": {
            "text/html": [
              "<div>\n",
              "<style scoped>\n",
              "    .dataframe tbody tr th:only-of-type {\n",
              "        vertical-align: middle;\n",
              "    }\n",
              "\n",
              "    .dataframe tbody tr th {\n",
              "        vertical-align: top;\n",
              "    }\n",
              "\n",
              "    .dataframe thead th {\n",
              "        text-align: right;\n",
              "    }\n",
              "</style>\n",
              "<table border=\"1\" class=\"dataframe\">\n",
              "  <thead>\n",
              "    <tr style=\"text-align: right;\">\n",
              "      <th></th>\n",
              "      <th>quoteID</th>\n",
              "      <th>quotation</th>\n",
              "      <th>speaker</th>\n",
              "      <th>qids</th>\n",
              "      <th>date</th>\n",
              "      <th>numOccurrences</th>\n",
              "      <th>probas</th>\n",
              "      <th>urls</th>\n",
              "      <th>phase</th>\n",
              "      <th>id</th>\n",
              "      <th>gender</th>\n",
              "      <th>occupation</th>\n",
              "    </tr>\n",
              "  </thead>\n",
              "  <tbody>\n",
              "    <tr>\n",
              "      <th>0</th>\n",
              "      <td>2020-01-16-000088</td>\n",
              "      <td>[ Department of Homeland Security ] was livid ...</td>\n",
              "      <td>Sue Myrick</td>\n",
              "      <td>Q367796</td>\n",
              "      <td>2020-01-16 12:00:13</td>\n",
              "      <td>1</td>\n",
              "      <td>[['Sue Myrick', '0.8867'], ['None', '0.0992'],...</td>\n",
              "      <td>['http://thehill.com/opinion/international/478...</td>\n",
              "      <td>E</td>\n",
              "      <td>Q367796</td>\n",
              "      <td>['Q6581072']</td>\n",
              "      <td>['Q82955']</td>\n",
              "    </tr>\n",
              "    <tr>\n",
              "      <th>1</th>\n",
              "      <td>2020-01-17-000357</td>\n",
              "      <td>[ The delay ] will have an impact [ on Slough ...</td>\n",
              "      <td>Dexter Smith</td>\n",
              "      <td>Q5268447</td>\n",
              "      <td>2020-01-17 13:03:00</td>\n",
              "      <td>1</td>\n",
              "      <td>[['Dexter Smith', '0.924'], ['None', '0.076']]</td>\n",
              "      <td>['http://www.sloughexpress.co.uk/gallery/sloug...</td>\n",
              "      <td>E</td>\n",
              "      <td>Q5268447</td>\n",
              "      <td>['Q6581097']</td>\n",
              "      <td>['Q12299841']</td>\n",
              "    </tr>\n",
              "    <tr>\n",
              "      <th>2</th>\n",
              "      <td>2020-03-19-000276</td>\n",
              "      <td>[ These ] actions will allow households who ha...</td>\n",
              "      <td>Ben Carson</td>\n",
              "      <td>Q816459</td>\n",
              "      <td>2020-03-19 19:14:00</td>\n",
              "      <td>1</td>\n",
              "      <td>[['Ben Carson', '0.9227'], ['None', '0.0773']]</td>\n",
              "      <td>['https://mortgageorb.com/hud-fha-suspend-fore...</td>\n",
              "      <td>E</td>\n",
              "      <td>Q816459</td>\n",
              "      <td>['Q6581097']</td>\n",
              "      <td>['Q212980' 'Q9385011' 'Q82955' 'Q482980' 'Q162...</td>\n",
              "    </tr>\n",
              "    <tr>\n",
              "      <th>3</th>\n",
              "      <td>2020-01-22-009723</td>\n",
              "      <td>be pivotal in addressing financial frustrations</td>\n",
              "      <td>Ben Carson</td>\n",
              "      <td>Q816459</td>\n",
              "      <td>2020-01-22 21:07:39</td>\n",
              "      <td>1</td>\n",
              "      <td>[['Ben Carson', '0.7796'], ['None', '0.1278'],...</td>\n",
              "      <td>['https://www.wcbi.com/more-locales-weigh-repl...</td>\n",
              "      <td>E</td>\n",
              "      <td>Q816459</td>\n",
              "      <td>['Q6581097']</td>\n",
              "      <td>['Q212980' 'Q9385011' 'Q82955' 'Q482980' 'Q162...</td>\n",
              "    </tr>\n",
              "    <tr>\n",
              "      <th>4</th>\n",
              "      <td>2020-02-04-110477</td>\n",
              "      <td>We're talking about `Do we want to continue th...</td>\n",
              "      <td>Ben Carson</td>\n",
              "      <td>Q816459</td>\n",
              "      <td>2020-02-04 23:02:36</td>\n",
              "      <td>1</td>\n",
              "      <td>[['Ben Carson', '0.8841'], ['None', '0.112'], ...</td>\n",
              "      <td>['https://www.complex.com/life/2020/02/ben-car...</td>\n",
              "      <td>E</td>\n",
              "      <td>Q816459</td>\n",
              "      <td>['Q6581097']</td>\n",
              "      <td>['Q212980' 'Q9385011' 'Q82955' 'Q482980' 'Q162...</td>\n",
              "    </tr>\n",
              "  </tbody>\n",
              "</table>\n",
              "</div>"
            ],
            "text/plain": [
              "             quoteID  ...                                         occupation\n",
              "0  2020-01-16-000088  ...                                         ['Q82955']\n",
              "1  2020-01-17-000357  ...                                      ['Q12299841']\n",
              "2  2020-03-19-000276  ...  ['Q212980' 'Q9385011' 'Q82955' 'Q482980' 'Q162...\n",
              "3  2020-01-22-009723  ...  ['Q212980' 'Q9385011' 'Q82955' 'Q482980' 'Q162...\n",
              "4  2020-02-04-110477  ...  ['Q212980' 'Q9385011' 'Q82955' 'Q482980' 'Q162...\n",
              "\n",
              "[5 rows x 12 columns]"
            ]
          },
          "metadata": {},
          "execution_count": 28
        }
      ]
    },
    {
      "cell_type": "markdown",
      "metadata": {
        "id": "BSYj7MMO22u5"
      },
      "source": [
        "We want to build a dictionary of news websites associated to their url count in the dataset to find the websites with the highest frequency, that we use for topic extraction. \n",
        "Indeed, urls can contain information about the topic to which the news article (and the quotation) belongs to. \n",
        "\n",
        "We focus on the 2020 dataset, as an example. The processing steps explained below can then be performed for the datasets of the other years. "
      ]
    },
    {
      "cell_type": "code",
      "metadata": {
        "id": "P_uVDJI8ytUT"
      },
      "source": [
        "\n",
        "d = defaultdict(lambda: 0) # initialize a dictionary whose default entries are 0\n",
        "\n",
        "total_urls = 0 # we count the number of urls encountered as we traverse the dataset\n",
        "\n",
        "df = pd.read_csv(os.path.join(path_to_modified_folder, \"gender-occupationsanity-checked-filtered-percentage-and-quote-length-single-qids-quotes-2020.json.bz2\"), compression='bz2', chunksize=chunksize)\n",
        "\n",
        "chunkCount=0\n",
        "\n",
        "for chunk in df:\n",
        "\n",
        "  chunk[\"urls\"] = chunk[\"urls\"].apply(lambda x: ast.literal_eval(x)) # separate the url entries as list elements\n",
        "  for urls in chunk[\"urls\"]:\n",
        "    total_urls += len(urls)\n",
        "    for url in urls:\n",
        "      domain = tldextract.extract(url)[1] # extract the domain name of the url\n",
        "      d[domain]+=1\n",
        "    "
      ],
      "execution_count": null,
      "outputs": []
    },
    {
      "cell_type": "markdown",
      "metadata": {
        "id": "tVrJAkz_3Hw2"
      },
      "source": [
        "We can create a sorted dataframe to see the top 10 most recurring websites. Based on this, we can select 3 initial website candidates to extract our topics: nytimes, msn, and einnews.\n",
        "\n",
        "However, even the most recurring sites represent only up to 1% of the total urls. This means that in our approach, there might be a need for several sites, to maximize our use of the data. "
      ]
    },
    {
      "cell_type": "code",
      "metadata": {
        "id": "GFy-pCO_4Ks1",
        "colab": {
          "base_uri": "https://localhost:8080/",
          "height": 359
        },
        "outputId": "eb3ef17d-0274-4bd7-e150-fb5c3fc25a67"
      },
      "source": [
        "news_data = pd.DataFrame.from_dict(d,orient='index',columns=['website_counts']) # create dataframe from frequency dictionary\n",
        "\n",
        "sorted_news_data = news_data.sort_values(by = \"website_counts\", axis = 0, ascending = False) # sort the entries by frequency in decreasing order\n",
        "\n",
        "sorted_news_data[\"proportion\"] = sorted_news_data[\"website_counts\"]/total_urls # create a column to reflect their proportion\n",
        "\n",
        "sorted_news_data.head(10)"
      ],
      "execution_count": null,
      "outputs": [
        {
          "output_type": "execute_result",
          "data": {
            "text/html": [
              "<div>\n",
              "<style scoped>\n",
              "    .dataframe tbody tr th:only-of-type {\n",
              "        vertical-align: middle;\n",
              "    }\n",
              "\n",
              "    .dataframe tbody tr th {\n",
              "        vertical-align: top;\n",
              "    }\n",
              "\n",
              "    .dataframe thead th {\n",
              "        text-align: right;\n",
              "    }\n",
              "</style>\n",
              "<table border=\"1\" class=\"dataframe\">\n",
              "  <thead>\n",
              "    <tr style=\"text-align: right;\">\n",
              "      <th></th>\n",
              "      <th>website_counts</th>\n",
              "      <th>proportion</th>\n",
              "    </tr>\n",
              "  </thead>\n",
              "  <tbody>\n",
              "    <tr>\n",
              "      <th>einnews</th>\n",
              "      <td>141164</td>\n",
              "      <td>0.017514</td>\n",
              "    </tr>\n",
              "    <tr>\n",
              "      <th>msn</th>\n",
              "      <td>108528</td>\n",
              "      <td>0.013465</td>\n",
              "    </tr>\n",
              "    <tr>\n",
              "      <th>news965</th>\n",
              "      <td>54966</td>\n",
              "      <td>0.006820</td>\n",
              "    </tr>\n",
              "    <tr>\n",
              "      <th>breitbart</th>\n",
              "      <td>52947</td>\n",
              "      <td>0.006569</td>\n",
              "    </tr>\n",
              "    <tr>\n",
              "      <th>businessinsider</th>\n",
              "      <td>50731</td>\n",
              "      <td>0.006294</td>\n",
              "    </tr>\n",
              "    <tr>\n",
              "      <th>wokv</th>\n",
              "      <td>45059</td>\n",
              "      <td>0.005590</td>\n",
              "    </tr>\n",
              "    <tr>\n",
              "      <th>nbcsports</th>\n",
              "      <td>44499</td>\n",
              "      <td>0.005521</td>\n",
              "    </tr>\n",
              "    <tr>\n",
              "      <th>washingtontimes</th>\n",
              "      <td>39146</td>\n",
              "      <td>0.004857</td>\n",
              "    </tr>\n",
              "    <tr>\n",
              "      <th>indiatimes</th>\n",
              "      <td>36340</td>\n",
              "      <td>0.004509</td>\n",
              "    </tr>\n",
              "    <tr>\n",
              "      <th>foxnews</th>\n",
              "      <td>36317</td>\n",
              "      <td>0.004506</td>\n",
              "    </tr>\n",
              "  </tbody>\n",
              "</table>\n",
              "</div>"
            ],
            "text/plain": [
              "                 website_counts  proportion\n",
              "einnews                  141164    0.017514\n",
              "msn                      108528    0.013465\n",
              "news965                   54966    0.006820\n",
              "breitbart                 52947    0.006569\n",
              "businessinsider           50731    0.006294\n",
              "wokv                      45059    0.005590\n",
              "nbcsports                 44499    0.005521\n",
              "washingtontimes           39146    0.004857\n",
              "indiatimes                36340    0.004509\n",
              "foxnews                   36317    0.004506"
            ]
          },
          "metadata": {},
          "execution_count": 10
        }
      ]
    },
    {
      "cell_type": "markdown",
      "metadata": {
        "id": "M-8EkL9cb07a"
      },
      "source": [
        "We create some functions to filter out rows of the dataset that contain urls of our chosen websites candidates: msn, einnews and nytimes."
      ]
    },
    {
      "cell_type": "code",
      "metadata": {
        "id": "ED0_CwGZvS72"
      },
      "source": [
        "def filter_by_url(df,name): # select only the rows that have urls from msn news and return a new df that selects those urls \n",
        "\n",
        "  def filter_helper(urls): \n",
        "    return [url for url in urls if tldextract.extract(url)[1]==name ] # returns only the urls with the domain name \"name\"\n",
        "\n",
        "  df[\"urls_\" + name] = df[\"urls\"].apply(lambda x: filter_helper(x)) # url lists matching the name\n",
        "\n",
        "  df[name + \"_counts\"]= df[\"urls_\"+name].apply(lambda x: len(x)) # number of urls matching the name\n",
        "\n",
        "  return df[df[name + \"_counts\"]>0]\n",
        "\n",
        "# take a chunk from the cleaned 2020 quotes dataset\n",
        "\n",
        "df = pd.read_csv(os.path.join(path_to_modified_folder, \"gender-occupationsanity-checked-filtered-percentage-and-quote-length-single-qids-quotes-2020.json.bz2\"), compression='bz2', chunksize=chunksize)\n",
        "\n",
        "chunk = next(df)\n",
        "\n",
        "chunk[\"urls\"] = chunk[\"urls\"].apply(lambda x: ast.literal_eval(x))\n",
        "\n",
        "# build a small dataset based on the chunk for each of our 3 website candidates\n",
        "\n",
        "df_msn = filter_by_url(chunk, \"msn\")\n",
        "\n",
        "df_einnews = filter_by_url(chunk, \"einnews\")\n",
        "\n",
        "df_nytimes = filter_by_url(chunk, \"nytimes\")\n"
      ],
      "execution_count": null,
      "outputs": []
    },
    {
      "cell_type": "markdown",
      "metadata": {
        "id": "pEVtSDB93gg0"
      },
      "source": [
        "Since there can be several urls per quote, we want to see if the amount of rows with several urls is significant enough (with respect to the volume of the 2020 dataset) to integrate url multiplicity into our topic analysis. Indeed, the ratio of mutliple urls (for msn, nytimes and einnews) is roughly around 20%-60%, which highlights their potential use to enrich the topic analysis (each url could provide an extra topic)."
      ]
    },
    {
      "cell_type": "code",
      "metadata": {
        "colab": {
          "base_uri": "https://localhost:8080/"
        },
        "id": "ttkQmNekRcaZ",
        "outputId": "4b06aa24-46c5-4061-c5cf-66521c3c9c70"
      },
      "source": [
        "# extract rows with more than 1 url for msn, einnews and nytimes\n",
        "\n",
        "morethan1_msn = df_msn[df_msn['msn_counts']>1]\n",
        "\n",
        "morethan1_einnews = df_einnews[df_einnews['einnews_counts']>1]\n",
        "\n",
        "morethan1_nytimes = df_nytimes[df_nytimes['nytimes_counts']>1]\n",
        "\n",
        "\n",
        "# investigate the proportion of multiple urls for the same news website\n",
        "\n",
        "ratio_msn = len(morethan1_msn)/len(df_msn)  \n",
        "\n",
        "ratio_einnews = len(morethan1_einnews)/len(df_einnews)  \n",
        "\n",
        "ratio_ny = len(morethan1_nytimes)/len(df_nytimes)\n",
        "\n",
        "print(\"ratio_ny =\",ratio_ny)\n",
        "\n",
        "print(\"ratio_msn =\",ratio_msn)\n",
        "\n",
        "print(\"ratio_einnews =\", ratio_einnews)\n"
      ],
      "execution_count": null,
      "outputs": [
        {
          "output_type": "stream",
          "name": "stdout",
          "text": [
            "ratio_ny = 0.31129196337741605\n",
            "ratio_msn = 0.24485981308411214\n",
            "ratio_einnews = 0.5880952380952381\n"
          ]
        }
      ]
    },
    {
      "cell_type": "markdown",
      "metadata": {
        "id": "hZensZ9C3of1"
      },
      "source": [
        "Next, we look at the formatting of each of the three candidate urls to verify whether they contain topics or not. If they do, we want to see if the topics are consistently present in one part of the url, or if they occasionally appear in other parts of the url.\n"
      ]
    },
    {
      "cell_type": "markdown",
      "metadata": {
        "id": "Gd3WxqfS3sFO"
      },
      "source": [
        "For msn urls: \n",
        "- There is a clear pattern in topic location within the url, msn urls are a suitable candidate for url topic extraction.\n",
        "\n",
        "- The label \"other\" does not give further insight into the topic. It may have to be ignored.\n",
        "\n",
        "- There is diversity in the topics across the different urls."
      ]
    },
    {
      "cell_type": "code",
      "metadata": {
        "colab": {
          "base_uri": "https://localhost:8080/"
        },
        "id": "UILiF7HkLpnX",
        "outputId": "770237f4-e4fb-4df9-ab52-7faaa5a388ee"
      },
      "source": [
        "print(\"msn quotes:\")\n",
        "for i in range(0,5):\n",
        "  print(\"\\nQuote \"+str(i)+\" :\")\n",
        "  for url in morethan1_msn.iloc[i][\"urls_msn\"]:\n",
        "    print(\"url:\",url)\n",
        "    print(\"topic:\",url.split(\"/\")[5]) # split the url by \"/\" and extract the 5th element"
      ],
      "execution_count": null,
      "outputs": [
        {
          "output_type": "stream",
          "name": "stdout",
          "text": [
            "msn quotes:\n",
            "\n",
            "Quote 0 :\n",
            "url: http://msn.com/en-au/news/world/murkowski-comes-out-against-impeachment-witnesses-putting-trump-on-path-to-acquittal/ar-BBZwzbZ?li=AAgfIYZ\n",
            "topic: world\n",
            "url: https://www.msn.com/en-us/news/politics/murkowski-comes-out-against-impeachment-witnesses-putting-trump-on-path-to-acquittal/ar-BBZwDWL?srcref=rss\n",
            "topic: politics\n",
            "\n",
            "Quote 1 :\n",
            "url: http://msn.com/en-au/news/world/annabella-sciorra-testifies-in-weinstein-trial-he-raped-me/ar-BBZgRns?li=AAgfIYZ\n",
            "topic: world\n",
            "url: http://msn.com/en-au/news/world/annabella-sciorra-testifies-in-weinstein-trial-he-raped-me/ar-BBZgRns?li=BBU4PL8\n",
            "topic: world\n",
            "\n",
            "Quote 2 :\n",
            "url: http://msn.com/en-xl/northamerica/northamerica-tech-science/why-spacex-wants-a-tiny-texas-neighborhood-so-badly/ar-BBZUoom?li=BBKxJ6T\n",
            "topic: northamerica-tech-science\n",
            "url: https://www.msn.com/en-us/news/other/why-spacex-wants-a-tiny-texas-neighborhood-so-badly/ar-BBZToTe?srcref=rss\n",
            "topic: other\n",
            "\n",
            "Quote 3 :\n",
            "url: http://msn.com/en-xl/europe/europe-top-stories/in-recording-trump-asks-how-long-ukraine-can-resist-russians/ar-BBZliuy?li=BBKuHye\n",
            "topic: europe-top-stories\n",
            "url: http://msn.com/en-xl/northamerica/northamerica-top-stories/in-recording-trump-asks-how-long-ukraine-can-resist-russians/ar-BBZliuy?li=BBKxJ6T\n",
            "topic: northamerica-top-stories\n",
            "url: http://www.msn.com/en-us/news/politics/in-recording-trump-asks-how-long-ukraine-can-resist-russians/ar-BBZkn16?srcref=rss\n",
            "topic: politics\n",
            "\n",
            "Quote 4 :\n",
            "url: http://www.msn.com/en-us/news/elections-2020/how-bloomberg-bungled-a-debate-that-he-had-been-prepped-for/ar-BB10dL1D?srcref=rss\n",
            "topic: elections-2020\n",
            "url: http://msn.com/en-au/news/world/how-bloomberg-bungled-a-debate-that-he-had-been-prepped-for/ar-BB10dV7G?li=AAgfIYZ\n",
            "topic: world\n",
            "url: http://msn.com/en-au/news/world/how-bloomberg-bungled-a-debate-that-he-had-been-prepped-for/ar-BB10dV7G?li=BBU4PL8\n",
            "topic: world\n"
          ]
        }
      ]
    },
    {
      "cell_type": "markdown",
      "metadata": {
        "id": "30dngbSk3znn"
      },
      "source": [
        "The einnews urls do not contain topics. Thus, they are not suitable for topic extraction."
      ]
    },
    {
      "cell_type": "code",
      "metadata": {
        "id": "GOgd659LWeCJ",
        "colab": {
          "base_uri": "https://localhost:8080/"
        },
        "outputId": "bf01db1e-6291-4b78-8318-9b465d1d0b77"
      },
      "source": [
        "# we look at the formatting of the einnews urls: there aren't any obvious topics to extract\n",
        "\n",
        "print(\"\\neinnews quotes:\")\n",
        "for i in range(0,5):\n",
        "  print(\"\\nQuote \"+str(i)+\" :\")\n",
        "  for url in morethan1_einnews.iloc[i][\"urls_einnews\"]:\n",
        "    print(\"url:\",url)"
      ],
      "execution_count": null,
      "outputs": [
        {
          "output_type": "stream",
          "name": "stdout",
          "text": [
            "\n",
            "einnews quotes:\n",
            "\n",
            "Quote 0 :\n",
            "url: http://uspolitics.einnews.com/article/506997602/M43ygB-KE2bKKnCu\n",
            "url: http://uspolitics.einnews.com/article/506997602/qVK5w_ukGQPn3DNB\n",
            "\n",
            "Quote 1 :\n",
            "url: http://brazilbusiness.einnews.com/article/507465438/dddtJiRfd3QVZN4u\n",
            "url: http://brazilbusiness.einnews.com/article/507465438/p1tzpruMXLYpX7mG\n",
            "\n",
            "Quote 2 :\n",
            "url: http://uspolitics.einnews.com/article/506174830/2sumwpJY_BKc2RHm\n",
            "url: http://uspolitics.einnews.com/article/506174830/B_8bZPDii-tt6guZ\n",
            "url: http://uspolitics.einnews.com/article/506174830/Q-jBqQdUGDxFhwOA\n",
            "url: http://uspolitics.einnews.com/article/506174830/XMZq8B8OVnG62eZG\n",
            "url: http://uspolitics.einnews.com/article/506174830/kuAhyGkF6zuugRPQ\n",
            "url: http://uspolitics.einnews.com/article/506174830/s-oILJd2fabnZs7H\n",
            "\n",
            "Quote 3 :\n",
            "url: http://uspolitics.einnews.com/article/509805430/1ORq2_mEJCERyWcg\n",
            "url: http://uspolitics.einnews.com/article/509805430/O45F_q2dJ58Q-AKr\n",
            "\n",
            "Quote 4 :\n",
            "url: http://uspolitics.einnews.com/article/511143309/eskbd5-VAV1TkFFR\n",
            "url: http://uspolitics.einnews.com/article/511149688/_JGzheKykz_hnXgQ\n"
          ]
        }
      ]
    },
    {
      "cell_type": "markdown",
      "metadata": {
        "id": "ecvpOI8D39lZ"
      },
      "source": [
        "For the nytimes urls: \n",
        "- There are some slight inconsistencies for topic positionning within the url. \n",
        "- For some urls (ex: quote 4), no topic can be extracted.\n",
        "- Out of the examples below, topics for a given quote are often identical."
      ]
    },
    {
      "cell_type": "code",
      "metadata": {
        "id": "Xna_MJLMWhkf",
        "colab": {
          "base_uri": "https://localhost:8080/"
        },
        "outputId": "d90e89b3-5b66-4667-a56c-ba3b0df872b2"
      },
      "source": [
        "print(\"\\nnytimes quotes:\")\n",
        "\n",
        "for i in [1,4,6,9]:\n",
        "  print(\"\\nQuote \"+str(i)+\" :\")\n",
        "\n",
        "  for url in morethan1_nytimes.iloc[i][\"urls_nytimes\"]:\n",
        "    l = url.split(\"/\")\n",
        "    print(\"url:\",url)\n",
        "    if len(l)>6:\n",
        "      print(\"topic 1:\",l[6]) # split the url by \"/\" and extract the 6th element\n",
        "      if len(l)>7:\n",
        "        print(\"topic 2:\",l[7]) # extract the 6th element"
      ],
      "execution_count": null,
      "outputs": [
        {
          "output_type": "stream",
          "name": "stdout",
          "text": [
            "\n",
            "nytimes quotes:\n",
            "\n",
            "Quote 1 :\n",
            "url: http://www.nytimes.com/2020/01/10/world/middleeast/trump-iran-embassies.html\n",
            "topic 1: world\n",
            "topic 2: middleeast\n",
            "url: http://www.nytimes.com/2020/01/10/world/middleeast/trump-iran-embassy-attacks.html\n",
            "topic 1: world\n",
            "topic 2: middleeast\n",
            "url: https://www.nytimes.com/2020/01/10/world/middleeast/trump-iran-embassies.html?emc=rss&partner=rss\n",
            "topic 1: world\n",
            "topic 2: middleeast\n",
            "\n",
            "Quote 4 :\n",
            "url: http://mobile.nytimes.com/2020/04/10/us/coronavirus-live-updates.html#commentsContainer\n",
            "topic 1: us\n",
            "topic 2: coronavirus-live-updates.html#commentsContainer\n",
            "url: http://www.nytimes.com/2020/04/10/health/antibody-test-immunity.html\n",
            "topic 1: health\n",
            "topic 2: antibody-test-immunity.html\n",
            "\n",
            "Quote 6 :\n",
            "url: http://www.nytimes.com/2020/04/15/briefing/trump-who-south-korea-elections-wuhan.html\n",
            "topic 1: briefing\n",
            "topic 2: trump-who-south-korea-elections-wuhan.html\n",
            "url: https://www.nytimes.com/2020/04/15/briefing/who-coronavirus-boxfish-.html\n",
            "topic 1: briefing\n",
            "topic 2: who-coronavirus-boxfish-.html\n",
            "\n",
            "Quote 9 :\n",
            "url: http://mobile.nytimes.com/2020/02/13/opinion/coronavirus-face-mask-effective.html\n",
            "topic 1: opinion\n",
            "topic 2: coronavirus-face-mask-effective.html\n",
            "url: http://www.nytimes.com/2020/02/13/opinion/coronavirus-face-mask-effective.html\n",
            "topic 1: opinion\n",
            "topic 2: coronavirus-face-mask-effective.html\n",
            "url: https://www.nytimes.com/2020/02/13/opinion/coronavirus-face-mask-effective.html?emc=rss&partner=rss\n",
            "topic 1: opinion\n",
            "topic 2: coronavirus-face-mask-effective.html?emc=rss&partner=rss\n"
          ]
        }
      ]
    },
    {
      "cell_type": "markdown",
      "metadata": {
        "id": "mj_GKgzh4JjU"
      },
      "source": [
        "We now create functions for topic extraction for msn news, as it is the most suitable out of all three candidates.\n",
        "\n",
        "We create two extra columns for msn url quotes: \n",
        "- single_topic: where we extract a single topic by majority vote across all urls\n",
        "- multiple_topics: where we include all distinct topics\n",
        "\n",
        "For the project, as we might have to use and parse different urls to extract a significant amount of topics, one idea could be to create a dictionary mapping each url domain name to their own processing function.\n",
        "\n",
        "For the following code cells, we choose to focus only on msn urls."
      ]
    },
    {
      "cell_type": "code",
      "metadata": {
        "id": "ER1GaBqlQ7Aa"
      },
      "source": [
        "# create functions for topic extraction for msn news\n",
        "\n",
        "def extract_topic(urls): # return only one topic (most representative out of all urls)\n",
        "  \n",
        "  d = defaultdict(lambda: 0) \n",
        "  for url in urls:\n",
        "    topic = url.split(\"/\")[5]\n",
        "    if topic!=\"other\": # ignore \"other\"\n",
        "      d[topic]+=1\n",
        "\n",
        "  if d!={}:\n",
        "    return max(d, key=d.get)\n",
        "  else:\n",
        "    return \"none\"\n",
        "\n",
        "def extract_multiple_topics(urls):\n",
        "\n",
        "  l =list({url.split(\"/\")[5]:1 for url in urls}.keys()) # take the keys of a dictionary to avoid duplicates\n",
        "\n",
        "  if \"other\" in l:\n",
        "    l.remove(\"other\")\n",
        "\n",
        "  return l \n",
        "\n",
        "def add_topics(df,name):\n",
        "  df[\"multiple_topics\"] = df[\"urls_\"+name].apply(lambda x: extract_multiple_topics(x))\n",
        "  df[\"single_topic\"] = df[\"urls_\"+name].apply(lambda x: extract_topic(x))\n",
        "  df[\"num_topics\"] = df[\"multiple_topics\"].apply(lambda x:len(x))\n",
        "\n",
        "  return df\n"
      ],
      "execution_count": null,
      "outputs": []
    },
    {
      "cell_type": "code",
      "metadata": {
        "colab": {
          "base_uri": "https://localhost:8080/"
        },
        "id": "AZaAWH9TR6W1",
        "outputId": "ed15f99c-1155-4a5f-ae19-1fc925572860"
      },
      "source": [
        "# we append to the existing 2020 dataset some new columns with topic information\n",
        "\n",
        "df = pd.read_csv(os.path.join(path_to_modified_folder, \"gender-occupationsanity-checked-filtered-percentage-and-quote-length-single-qids-quotes-2020.json.bz2\"), compression='bz2', chunksize=chunksize)\n",
        "\n",
        "total_df = pd.DataFrame()\n",
        "\n",
        "chunkCount = 1\n",
        "\n",
        "name = \"msn\"\n",
        "\n",
        "for chunk in df:\n",
        "\n",
        "  print(\"Chunk number :\", chunkCount)\n",
        "  chunk[\"urls\"] = chunk[\"urls\"].apply(lambda x: ast.literal_eval(x))\n",
        "  new_chunk = filter_by_url(chunk,name) # filter only msn urls\n",
        "\n",
        "  print(\"Quotes in chunk :\",len(new_chunk))\n",
        "  new_chunk = add_topics(new_chunk, name) # topic extraction (single and multiple topics)\n",
        "  total_df = total_df.append(new_chunk) # append to the result dataframe\n",
        "\n",
        "  chunkCount += 1\n"
      ],
      "execution_count": null,
      "outputs": [
        {
          "output_type": "stream",
          "name": "stdout",
          "text": [
            "Chunk number : 1\n",
            "Quotes in chunk : 3210\n"
          ]
        },
        {
          "output_type": "stream",
          "name": "stderr",
          "text": [
            "/usr/local/lib/python3.7/dist-packages/ipykernel_launcher.py:26: SettingWithCopyWarning: \n",
            "A value is trying to be set on a copy of a slice from a DataFrame.\n",
            "Try using .loc[row_indexer,col_indexer] = value instead\n",
            "\n",
            "See the caveats in the documentation: https://pandas.pydata.org/pandas-docs/stable/user_guide/indexing.html#returning-a-view-versus-a-copy\n",
            "/usr/local/lib/python3.7/dist-packages/ipykernel_launcher.py:27: SettingWithCopyWarning: \n",
            "A value is trying to be set on a copy of a slice from a DataFrame.\n",
            "Try using .loc[row_indexer,col_indexer] = value instead\n",
            "\n",
            "See the caveats in the documentation: https://pandas.pydata.org/pandas-docs/stable/user_guide/indexing.html#returning-a-view-versus-a-copy\n",
            "/usr/local/lib/python3.7/dist-packages/ipykernel_launcher.py:28: SettingWithCopyWarning: \n",
            "A value is trying to be set on a copy of a slice from a DataFrame.\n",
            "Try using .loc[row_indexer,col_indexer] = value instead\n",
            "\n",
            "See the caveats in the documentation: https://pandas.pydata.org/pandas-docs/stable/user_guide/indexing.html#returning-a-view-versus-a-copy\n"
          ]
        },
        {
          "output_type": "stream",
          "name": "stdout",
          "text": [
            "Chunk number : 2\n",
            "Quotes in chunk : 3181\n",
            "Chunk number : 3\n",
            "Quotes in chunk : 3129\n",
            "Chunk number : 4\n",
            "Quotes in chunk : 3026\n",
            "Chunk number : 5\n",
            "Quotes in chunk : 2999\n",
            "Chunk number : 6\n",
            "Quotes in chunk : 3078\n",
            "Chunk number : 7\n",
            "Quotes in chunk : 3128\n",
            "Chunk number : 8\n",
            "Quotes in chunk : 3093\n",
            "Chunk number : 9\n",
            "Quotes in chunk : 2920\n",
            "Chunk number : 10\n",
            "Quotes in chunk : 3003\n",
            "Chunk number : 11\n",
            "Quotes in chunk : 3046\n",
            "Chunk number : 12\n",
            "Quotes in chunk : 3060\n",
            "Chunk number : 13\n",
            "Quotes in chunk : 3080\n",
            "Chunk number : 14\n",
            "Quotes in chunk : 2953\n",
            "Chunk number : 15\n",
            "Quotes in chunk : 3000\n",
            "Chunk number : 16\n",
            "Quotes in chunk : 3008\n",
            "Chunk number : 17\n",
            "Quotes in chunk : 3077\n",
            "Chunk number : 18\n",
            "Quotes in chunk : 3033\n",
            "Chunk number : 19\n",
            "Quotes in chunk : 3002\n",
            "Chunk number : 20\n",
            "Quotes in chunk : 3071\n",
            "Chunk number : 21\n",
            "Quotes in chunk : 3088\n",
            "Chunk number : 22\n",
            "Quotes in chunk : 3019\n",
            "Chunk number : 23\n",
            "Quotes in chunk : 3031\n",
            "Chunk number : 24\n",
            "Quotes in chunk : 1666\n"
          ]
        }
      ]
    },
    {
      "cell_type": "code",
      "metadata": {
        "colab": {
          "base_uri": "https://localhost:8080/",
          "height": 359
        },
        "id": "MiTVYYo49ZcN",
        "outputId": "13d4d99a-ba81-451f-a919-baa9b50a62c2"
      },
      "source": [
        "total_df[[\"quotation\",\"multiple_topics\",\"single_topic\",\"num_topics\",\"msn_counts\"]].iloc[:10]"
      ],
      "execution_count": null,
      "outputs": [
        {
          "output_type": "execute_result",
          "data": {
            "text/html": [
              "<div>\n",
              "<style scoped>\n",
              "    .dataframe tbody tr th:only-of-type {\n",
              "        vertical-align: middle;\n",
              "    }\n",
              "\n",
              "    .dataframe tbody tr th {\n",
              "        vertical-align: top;\n",
              "    }\n",
              "\n",
              "    .dataframe thead th {\n",
              "        text-align: right;\n",
              "    }\n",
              "</style>\n",
              "<table border=\"1\" class=\"dataframe\">\n",
              "  <thead>\n",
              "    <tr style=\"text-align: right;\">\n",
              "      <th></th>\n",
              "      <th>quotation</th>\n",
              "      <th>multiple_topics</th>\n",
              "      <th>single_topic</th>\n",
              "      <th>num_topics</th>\n",
              "      <th>msn_counts</th>\n",
              "    </tr>\n",
              "  </thead>\n",
              "  <tbody>\n",
              "    <tr>\n",
              "      <th>12</th>\n",
              "      <td>It is your responsibility as secretary of HUD ...</td>\n",
              "      <td>[politics]</td>\n",
              "      <td>politics</td>\n",
              "      <td>1</td>\n",
              "      <td>1</td>\n",
              "    </tr>\n",
              "    <tr>\n",
              "      <th>17</th>\n",
              "      <td>In order for the healing to begin, the corrupt...</td>\n",
              "      <td>[latinamerica-top-stories, us]</td>\n",
              "      <td>latinamerica-top-stories</td>\n",
              "      <td>2</td>\n",
              "      <td>2</td>\n",
              "    </tr>\n",
              "    <tr>\n",
              "      <th>38</th>\n",
              "      <td>really run down and emotional.</td>\n",
              "      <td>[celebs]</td>\n",
              "      <td>celebs</td>\n",
              "      <td>1</td>\n",
              "      <td>1</td>\n",
              "    </tr>\n",
              "    <tr>\n",
              "      <th>64</th>\n",
              "      <td>Las Vegas is now packing people into concrete ...</td>\n",
              "      <td>[us]</td>\n",
              "      <td>us</td>\n",
              "      <td>1</td>\n",
              "      <td>1</td>\n",
              "    </tr>\n",
              "    <tr>\n",
              "      <th>88</th>\n",
              "      <td>Our nation-sized state knows first-hand the de...</td>\n",
              "      <td>[us]</td>\n",
              "      <td>us</td>\n",
              "      <td>1</td>\n",
              "      <td>1</td>\n",
              "    </tr>\n",
              "    <tr>\n",
              "      <th>110</th>\n",
              "      <td>But we are not at this moment feeling that is ...</td>\n",
              "      <td>[us]</td>\n",
              "      <td>us</td>\n",
              "      <td>1</td>\n",
              "      <td>1</td>\n",
              "    </tr>\n",
              "    <tr>\n",
              "      <th>122</th>\n",
              "      <td>California stands with the people of Puerto Rico,</td>\n",
              "      <td>[us]</td>\n",
              "      <td>us</td>\n",
              "      <td>1</td>\n",
              "      <td>1</td>\n",
              "    </tr>\n",
              "    <tr>\n",
              "      <th>135</th>\n",
              "      <td>back into Los Angeles all fixed</td>\n",
              "      <td>[us]</td>\n",
              "      <td>us</td>\n",
              "      <td>1</td>\n",
              "      <td>1</td>\n",
              "    </tr>\n",
              "    <tr>\n",
              "      <th>168</th>\n",
              "      <td>will establish a unified homelessness data sys...</td>\n",
              "      <td>[us]</td>\n",
              "      <td>us</td>\n",
              "      <td>1</td>\n",
              "      <td>1</td>\n",
              "    </tr>\n",
              "    <tr>\n",
              "      <th>257</th>\n",
              "      <td>How the f ** k can teasing huge corporations, ...</td>\n",
              "      <td>[golden-globes]</td>\n",
              "      <td>golden-globes</td>\n",
              "      <td>1</td>\n",
              "      <td>1</td>\n",
              "    </tr>\n",
              "  </tbody>\n",
              "</table>\n",
              "</div>"
            ],
            "text/plain": [
              "                                             quotation  ... msn_counts\n",
              "12   It is your responsibility as secretary of HUD ...  ...          1\n",
              "17   In order for the healing to begin, the corrupt...  ...          2\n",
              "38                      really run down and emotional.  ...          1\n",
              "64   Las Vegas is now packing people into concrete ...  ...          1\n",
              "88   Our nation-sized state knows first-hand the de...  ...          1\n",
              "110  But we are not at this moment feeling that is ...  ...          1\n",
              "122  California stands with the people of Puerto Rico,  ...          1\n",
              "135                    back into Los Angeles all fixed  ...          1\n",
              "168  will establish a unified homelessness data sys...  ...          1\n",
              "257  How the f ** k can teasing huge corporations, ...  ...          1\n",
              "\n",
              "[10 rows x 5 columns]"
            ]
          },
          "metadata": {},
          "execution_count": 58
        }
      ]
    },
    {
      "cell_type": "markdown",
      "metadata": {
        "id": "C-3C3cOh4dqY"
      },
      "source": [
        "We want to see whether quotations with multiple topics represent a significant part of the dataset.\n",
        "\n",
        "We see that they represent 7% of the dataset, which is small. However, this topic multiplicity may help to provide alternative topic labels if the single_topic label is not satisfactory. For instance, \"politics\" is more specific than \"world\", so the second topic may still be useful."
      ]
    },
    {
      "cell_type": "code",
      "metadata": {
        "colab": {
          "base_uri": "https://localhost:8080/"
        },
        "id": "BnFimZYlpHZw",
        "outputId": "12043367-bfcd-4eb9-c360-4842f73ea3b0"
      },
      "source": [
        "total_df = total_df[total_df[\"single_topic\"]!=\"none\"] # drop the topics with none\n",
        "\n",
        "print(\"proportion of quotes with multiple themes:\",len(total_df[total_df[\"num_topics\"]>1])/len(total_df))\n"
      ],
      "execution_count": null,
      "outputs": [
        {
          "output_type": "stream",
          "name": "stdout",
          "text": [
            "proportion of quotes with multiple themes: 0.07436848058313435\n"
          ]
        }
      ]
    },
    {
      "cell_type": "markdown",
      "metadata": {
        "id": "PyQp1drc4puG"
      },
      "source": [
        "Next, we want to see the topic distribution across our dataset: can quotations be grouped into big topic aggregates? What fraction of the topics is not useful for grouping quotations?\n",
        "\n",
        "We see that more than half of the extracted topics have less than 50 quotations grouped under them. A potential strategy is to ignore them (as they won't be the main focus of the project). We could also complete interesting topics such as \"nutrition\" or \"entertainment\" with other news urls. We also notice that topics that have the same meaning such as \"celebrity\" or \"celebs\" are separated. By defining such \"synonyms\" we could aggregate the remaining minor topics to more significant groups.\n",
        "\n",
        "We also witness big topic aggregates, on which we can perform our thematic analysis."
      ]
    },
    {
      "cell_type": "code",
      "metadata": {
        "colab": {
          "base_uri": "https://localhost:8080/",
          "height": 740
        },
        "id": "4fn-PbXPzdCq",
        "outputId": "26e0e0ae-2f7f-456e-cdb2-138856f1448a"
      },
      "source": [
        "# we select only one topic (in the single_topics column) and plot the topics distribution\n",
        "\n",
        "# plot the top 10 topics\n",
        "\n",
        "plt.title(\"Topic distribution for top 10 most recurring topics\")\n",
        "total_df['single_topic'].value_counts().iloc[0:10].plot(kind='bar')\n",
        "plt.ylabel(\"Frequency\")\n",
        "plt.show()\n",
        "\n",
        "# plot the top 80 to 90 topics\n",
        "\n",
        "plt.title(\"Topic distribution for top 80-90 most recurring topics\")\n",
        "total_df['single_topic'].value_counts().iloc[80:90].plot(kind='bar')\n",
        "plt.ylabel(\"Frequency\")\n",
        "plt.show()\n",
        "\n",
        "# compare number of under-represented topics to total topic number\n",
        "\n",
        "total_topics = len(total_df['single_topic'].value_counts()) # total number of topics \n",
        "\n",
        "small_topics = len([v for v in total_df['single_topic'].value_counts().values if v<50]) # topics that group less than 50 quotations\n",
        "\n",
        "print(\"total number of topics:\", total_topics)\n",
        "print(\"under-represented topics:\", small_topics)"
      ],
      "execution_count": null,
      "outputs": [
        {
          "output_type": "display_data",
          "data": {
            "image/png": "[encoded data removed]",
            "text/plain": [
              "<Figure size 432x288 with 1 Axes>"
            ]
          },
          "metadata": {
            "needs_background": "light"
          }
        },
        {
          "output_type": "display_data",
          "data": {
            "image/png": "[encoded data removed]",
            "text/plain": [
              "<Figure size 432x288 with 1 Axes>"
            ]
          },
          "metadata": {
            "needs_background": "light"
          }
        },
        {
          "output_type": "stream",
          "name": "stdout",
          "text": [
            "total number of topics: 201\n",
            "under-represented topics: 130\n"
          ]
        }
      ]
    },
    {
      "cell_type": "code",
      "metadata": {
        "id": "5ukskVKyX2MZ"
      },
      "source": [
        "# save df\n",
        "\n",
        "name = \"msn-articles-with-topics-gender-occupation-sanity-checked-filtered-percentage-and-quote-length-single-qids-quotes-2020.json.bz2\"\n",
        "\n",
        "total_df.to_csv(os.path.join(path_to_modified_folder, name), header=True)"
      ],
      "execution_count": null,
      "outputs": []
    }
  ]
}